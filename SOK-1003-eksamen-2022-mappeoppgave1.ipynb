{
 "cells": [
  {
   "cell_type": "markdown",
   "id": "f7183bc1-2284-4311-9273-743fa73e63a7",
   "metadata": {},
   "source": [
    "# Mappeoppgave 1\n",
    "## <u>Beskrivelse\n",
    "Les oppgaveteksten nøye. Se hvordan man leverer oppgaven <th><a href='https://uit-sok-1003-h22.github.io/semesteroppgave.html'>her</a> </th> og  <th><a href='https://uit-sok-1003-h22.github.io/github.html'>her</a>. Husk at den skal leveres både som jupyter-fil og som PDF. Kommenter kodene du skriver i alle oppgaver og vær nøye på å definere aksene mm i figurer. I noen av oppgavetekstene står det hint, men det betyr ikke at de ikke kan løses på andre måter\n",
    "\n",
    "##### For å hente denne filen til Jupyter gjør du slik:\n",
    "\n",
    "<ol>\n",
    "<li>Åpne et \"terminalvindu\"\n",
    "<li>Gå til hjemmeområdet ditt\n",
    "    \n",
    "    \n",
    "    [user@jupty02 ~]$ cd\n",
    "<li>Lag en ny mappe på ditt hjemmeområde ved å skrive inn i terminalvinduet \n",
    "\n",
    "    [user@jupty02 ~]$ mkdir SOK-1003-eksamen-2022-mappe1 \n",
    "\n",
    "<li>Gå så inn i den mappen du har laget ved å skrive\n",
    "\n",
    "    [user@jupty02 ~]$ cd SOK-1003-eksamen-2022-mappe1 \n",
    "<li> Last ned kursmateriellet ved å kopiere inn følgende kommando i kommandovinduet:\n",
    "\n",
    "    [user@jupty02 sok-1003]$ git clone https://github.com/uit-sok-1003-h22/mappe/\n",
    "</ol> \n",
    "<br> Oppgi gruppenavn m/ medlemmer på epost o.k.aars@uit.no innen 7/10, så blir dere satt opp til tidspunkt for presentasjon 19/10. \n",
    "<br>Bruk så denne filen til å gjøre besvarelsen din. Ved behov; legg til flere celler ved å trykke \"b\"\n",
    "</br>\n",
    "<hr>"
   ]
  },
  {
   "cell_type": "code",
   "execution_count": null,
   "id": "deedd672-e678-4e6c-92e5-67b9b66a1e0a",
   "metadata": {},
   "outputs": [],
   "source": []
  },
  {
   "cell_type": "markdown",
   "id": "6578a453-0dfe-4f86-b2c4-0bbd934987c3",
   "metadata": {},
   "source": [
    "## <u> Oppgavene\n",
    "\n",
    "### Oppgave 1 (5 poeng)\n",
    "a) Lag en kort fortelling i en python kode som inkluderer alle de fire typer variabler vi har lært om i kurset. Koden skal kunne kjøres med print(). Koden burde inneholde utregninger av elementer du har definert\n"
   ]
  },
  {
   "cell_type": "code",
   "execution_count": 2,
   "id": "92c6740e-90f9-4a78-a331-5496fdc06b0e",
   "metadata": {},
   "outputs": [
    {
     "name": "stdin",
     "output_type": "stream",
     "text": [
      "What is your name?  harald\n",
      "How old are you?  23\n"
     ]
    },
    {
     "name": "stdout",
     "output_type": "stream",
     "text": [
      "Once upon a time there was a person named harald.\n",
      "This person was 23 years old.\n",
      "The end.\n",
      "This person is an adult.\n"
     ]
    }
   ],
   "source": [
    "#float\n",
    "#int\n",
    "#string\n",
    "#bool\n",
    "\n",
    "#make a short story using all the data types\n",
    "\n",
    "name = input(\"What is your name? \")\n",
    "age = int(input(\"How old are you? \"))\n",
    "\n",
    "#function for the story\n",
    "def story(name, age):\n",
    "    print(\"Once upon a time there was a person named \" + name + \".\")\n",
    "    print(\"This person was \" + str(age) + \" years old.\")\n",
    "    print(\"The end.\")\n",
    "    if age > 18:\n",
    "        print(\"This person is an adult.\")\n",
    "    #check if the person is an adult\n",
    "    else:\n",
    "        print(\"This person is a child.\")\n",
    "    \n",
    "       \n",
    "\n",
    "\n",
    "\n",
    "#call the function\n",
    "story(name, age)"
   ]
  },
  {
   "cell_type": "markdown",
   "id": "843a6ebc-9a7d-449a-848e-1776d8b3e2ab",
   "metadata": {},
   "source": [
    "### Oppgave 2 (10 poeng)"
   ]
  },
  {
   "cell_type": "markdown",
   "id": "65c0f196-e9c4-447f-be5a-7e08643fc38d",
   "metadata": {},
   "source": [
    "Leieprisene i landet har steget de siste månedene. Ved å bruke realistiske tall<br> \n",
    "a) Lag tilbuds og etterspørselsfunksjoner for leie av bolig (Bruk av ikke-lineære funksjoner belønnes). <br>\n",
    " <br> Definer funksjonene slik at det er mulig å finne en likevekt\n",
    "\n",
    "\n",
    "\n"
   ]
  },
  {
   "cell_type": "code",
   "execution_count": 4,
   "id": "7d86454c-767f-4b08-ba51-585165c03e7c",
   "metadata": {},
   "outputs": [
    {
     "data": {
      "text/plain": [
       "[<matplotlib.lines.Line2D at 0x7f81648f0c10>]"
      ]
     },
     "execution_count": 4,
     "metadata": {},
     "output_type": "execute_result"
    },
    {
     "data": {
      "image/png": "[encoded data removed]",
      "text/plain": [
       "<Figure size 432x288 with 1 Axes>"
      ]
     },
     "metadata": {
      "needs_background": "light"
     },
     "output_type": "display_data"
    }
   ],
   "source": [
    "#Stikkord supply, demand, likevekt. der de møtes i midten er det likevekt.\n",
    "#importerer pakker\n",
    "%matplotlib inline\n",
    "import matplotlib.pyplot as plt\n",
    "import numpy as np\n",
    "import sympy as sp\n",
    "\n",
    "#definerer tilbudsfunksjon\n",
    "def Supply(q):\n",
    "    return (q**2)\n",
    "#definerer etterspørselsfunksjon\n",
    "def Demand(q):\n",
    "    return (q - 20)**2\n",
    "#lager 1000 jevnlige punkter fra 0-16\n",
    "q = np.linspace(0, 16, 1000)\n",
    "\n",
    "#plotter grafen\n",
    "plt.plot(q, Supply(q), label = \"tilbuds kurve\")\n",
    "plt.plot(q, Demand(q), label = \"Etterspørsel kurve\")\n",
    "plt.title(\"Supply and Demand\")\n",
    "plt.xlabel(\"Quantity $q$\")\n",
    "plt.ylabel(\"Price\")\n",
    "\n",
    "#plot the equilibrium\n",
    "plt.plot(10, 100, \"o\", label = \"Equilibrium\")"
   ]
  },
  {
   "cell_type": "markdown",
   "id": "8994d05c-3eff-428b-9cc3-c52817cba507",
   "metadata": {},
   "source": [
    "b) Vis at disse er henholdvis fallende og stigende, ved bruk av\n",
    "- Regning\n",
    "- figurativt (matplotlib) \n",
    "Husk å markere aksene tydelig og at funskjonene er definert slik at linjene krysser"
   ]
  },
  {
   "cell_type": "markdown",
   "id": "8a528c27-c3d6-469f-824f-f89e217d1194",
   "metadata": {},
   "source": [
    "c) Kommenter funksjonene og likevekten. Vis gjerne figurativt hvor likevekten er ved bruk av scatter"
   ]
  },
  {
   "cell_type": "code",
   "execution_count": null,
   "id": "a1860645-9814-41aa-944e-4e28be9da46d",
   "metadata": {},
   "outputs": [],
   "source": []
  },
  {
   "cell_type": "markdown",
   "id": "dc7ec86f-9b5e-4e32-8ade-d95cfeb93d29",
   "metadata": {},
   "source": [
    "### Oppgave 3 (15 poeng)"
   ]
  },
  {
   "cell_type": "markdown",
   "id": "ffd4601d-7863-4b7d-a3ca-56153fb5143f",
   "metadata": {},
   "source": [
    "SSB har omfattende data på befolkningsutvikling (https://www.ssb.no/statbank/table/05803/tableViewLayout1/). Disse dataene skal du bruke i de neste deloppgavene.\n",
    "\n",
    "a) lag lister av følgende variabler: \"Befolkning 1. januar\", \"Døde i alt\", \"Innflyttinger\" og \"Utflyttinger\". Velg selv variabelnavn når du definerer dem i python. Første element i hver liste skal være variabelnavnet. Bruk tall for perioden 2012-2021. Lag så en liste av disse listene. Du kan kalle den \"ssb\". \n",
    "<br><br>\n",
    "<b>Hint:</b> når du skal velge variabler på SSB sin nettside må du holde inne ctrl for å velge flere variabler.\n"
   ]
  },
  {
   "cell_type": "code",
   "execution_count": 6,
   "id": "89588a39-4307-4a7f-ba4e-91ac7a8a8b66",
   "metadata": {},
   "outputs": [
    {
     "name": "stdout",
     "output_type": "stream",
     "text": [
      "      �r  Befolkning 1. januar  D�de i alt  Innflyttinger  Utflyttinger\n",
      "0   2012               4985870       41992          78570         31227\n",
      "1   2013               5051275       41282          75789         35716\n",
      "2   2014               5109056       40394          70030         31875\n",
      "3   2015               5165802       40727          67276         37474\n",
      "4   2016               5213985       40726          66800         40724\n",
      "5   2017               5258317       40774          58192         36843\n",
      "6   2018               5295619       40840          52485         34382\n",
      "7   2019               5328212       40684          52153         26826\n",
      "8   2020               5367580       40611          38071         26744\n",
      "9   2021               5391369       42002          53947         34297\n",
      "10  2022               5425270           0              0             0\n"
     ]
    }
   ],
   "source": [
    "#importerer pakker\n",
    "from codecs import unicode_escape_decode\n",
    "import pandas as pd \n",
    "\n",
    "#read csv\n",
    "ssb = pd.read_csv(\"/azhome/hla101@ad.uit.no/SOK-1003-eksamen-2022-mappe1/mappe/05803_20221017-131851.csv\",encoding= 'utf-8' , sep=\";\")\n",
    "\n",
    "#printer datasettet\n",
    "print(ssb)"
   ]
  },
  {
   "cell_type": "markdown",
   "id": "d73fb1db-1b16-41e8-afed-b88af54053cd",
   "metadata": {},
   "source": [
    "b) konverter \"ssb\" til en numpy matrise og gi den et nytt navn"
   ]
  },
  {
   "cell_type": "code",
   "execution_count": 7,
   "id": "2575453b-d523-49b8-98e7-6c2c6f31fc0b",
   "metadata": {},
   "outputs": [
    {
     "name": "stdout",
     "output_type": "stream",
     "text": [
      "[[   2012 4985870   41992   78570   31227]\n",
      " [   2013 5051275   41282   75789   35716]\n",
      " [   2014 5109056   40394   70030   31875]\n",
      " [   2015 5165802   40727   67276   37474]\n",
      " [   2016 5213985   40726   66800   40724]\n",
      " [   2017 5258317   40774   58192   36843]\n",
      " [   2018 5295619   40840   52485   34382]\n",
      " [   2019 5328212   40684   52153   26826]\n",
      " [   2020 5367580   40611   38071   26744]\n",
      " [   2021 5391369   42002   53947   34297]\n",
      " [   2022 5425270       0       0       0]]\n"
     ]
    }
   ],
   "source": [
    "import numpy as np\n",
    "#convert to numpy array\n",
    "df1 = np.array(ssb)\n",
    "\n",
    "\n",
    "print(df1)\n"
   ]
  },
  {
   "cell_type": "markdown",
   "id": "7948aec6-fbe4-4076-b781-13f00d7892a0",
   "metadata": {},
   "source": [
    "c) Putt alle tallene inn i en egen matrise og konverter disse til int "
   ]
  },
  {
   "cell_type": "code",
   "execution_count": 9,
   "id": "a4adefaa-98e0-4e84-82c5-5099eced6d05",
   "metadata": {},
   "outputs": [
    {
     "name": "stdout",
     "output_type": "stream",
     "text": [
      "[[   2013 5051275   41282   75789   35716]\n",
      " [   2014 5109056   40394   70030   31875]\n",
      " [   2015 5165802   40727   67276   37474]\n",
      " [   2016 5213985   40726   66800   40724]\n",
      " [   2017 5258317   40774   58192   36843]\n",
      " [   2018 5295619   40840   52485   34382]\n",
      " [   2019 5328212   40684   52153   26826]\n",
      " [   2020 5367580   40611   38071   26744]\n",
      " [   2021 5391369   42002   53947   34297]\n",
      " [   2022 5425270       0       0       0]]\n"
     ]
    }
   ],
   "source": [
    "#put in new array and convert to int but skip the first row\n",
    "df2 = np.array(ssb[1:], dtype=int)\n",
    "\n",
    "print(df2)"
   ]
  },
  {
   "cell_type": "markdown",
   "id": "5cdb7248-c041-430e-828f-33f8f5fe3ea4",
   "metadata": {},
   "source": [
    "d) vis befolkningsutviklingen grafisk for de gjeldene årene ved bruk av matplotlib, og mer spesifikt \"fig, ax = plt.subplots()\". Vis befolkning på y-aksen i millioner"
   ]
  },
  {
   "cell_type": "code",
   "execution_count": 10,
   "id": "1aea3ebd-e525-471b-97cc-292b3d06099a",
   "metadata": {},
   "outputs": [
    {
     "data": {
      "text/plain": [
       "Text(0, 0.5, 'Population in millions')"
      ]
     },
     "execution_count": 10,
     "metadata": {},
     "output_type": "execute_result"
    },
    {
     "data": {
      "image/png": "[encoded data removed]",
      "text/plain": [
       "<Figure size 432x288 with 1 Axes>"
      ]
     },
     "metadata": {
      "needs_background": "light"
     },
     "output_type": "display_data"
    }
   ],
   "source": [
    "#plot year and population\n",
    "plt.plot(df2[:,0], df2[:,1])\n",
    "plt.title(\"Population in Norway\")\n",
    "plt.xlabel(\"Year\")\n",
    "plt.ylabel(\"Population in millions\")\n",
    "\n"
   ]
  },
  {
   "cell_type": "markdown",
   "id": "91bfe9de-26e4-41dd-b12f-66e5ba714e8a",
   "metadata": {},
   "source": [
    "e) Lag det samme plottet ved bruk av oppslag. Hva er fordelen med dette?"
   ]
  },
  {
   "cell_type": "code",
   "execution_count": 11,
   "id": "5596bd22-3ba8-4ead-8adb-2547e304f75c",
   "metadata": {},
   "outputs": [
    {
     "name": "stdout",
     "output_type": "stream",
     "text": [
      "[[   2013 5051275   41282   75789   35716]\n",
      " [   2014 5109056   40394   70030   31875]\n",
      " [   2015 5165802   40727   67276   37474]\n",
      " [   2016 5213985   40726   66800   40724]\n",
      " [   2017 5258317   40774   58192   36843]\n",
      " [   2018 5295619   40840   52485   34382]\n",
      " [   2019 5328212   40684   52153   26826]\n",
      " [   2020 5367580   40611   38071   26744]\n",
      " [   2021 5391369   42002   53947   34297]\n",
      " [   2022 5425270       0       0       0]]\n"
     ]
    },
    {
     "data": {
      "image/png": "[encoded data removed]",
      "text/plain": [
       "<Figure size 432x288 with 1 Axes>"
      ]
     },
     "metadata": {
      "needs_background": "light"
     },
     "output_type": "display_data"
    }
   ],
   "source": [
    "df_norge = dict()\n",
    "\n",
    "df_norge[\"år\"] = df2[:,0]\n",
    "df_norge[\"Befolkning\"] = df2[:,1]/1000000\n",
    "\n",
    "#definerer aksene\n",
    "x2 = df_norge[\"år\"]\n",
    "y2 = df_norge[\"Befolkning\"]\n",
    "\n",
    "fig, ax1 = plt.subplots()\n",
    "#plot year and population\n",
    "ax =plt.plot(x2, y2)\n",
    "ax =plt.title(\"Population in Norway\")\n",
    "ax =plt.xlabel(\"Year\")\n",
    "ax =plt.ylabel(\"Population\")\n",
    "\n",
    "print(df2)\n",
    "\n",
    "\n",
    "#Lettere å lese av data"
   ]
  },
  {
   "cell_type": "markdown",
   "id": "fece5749-eed4-4b5a-92dc-e66bceae14d2",
   "metadata": {},
   "source": [
    "f) Hva er den relative befolkningstilveksten utenom fødsler (dvs. innvandring/utvandring)? Definer en ny array og legg den til i oppslaget du laget i oppgaven tidligere. Kall den \"rel_immigration\". Plot denne sammen med grafen du laget i (d). "
   ]
  },
  {
   "cell_type": "code",
   "execution_count": 38,
   "id": "f511ba92-873e-4114-87db-0a8737c6c582",
   "metadata": {},
   "outputs": [
    {
     "data": {
      "image/png": "[encoded data removed]",
      "text/plain": [
       "<Figure size 432x288 with 1 Axes>"
      ]
     },
     "metadata": {
      "needs_background": "light"
     },
     "output_type": "display_data"
    }
   ],
   "source": [
    "rel_immigration = df2[:, 4] - df2[:, 3]\n",
    "rel_immigration_10000 = rel_immigration/10000\n",
    "\n",
    "df_norge[\"rel_immigration\"] = rel_immigration_10000\n",
    "\n",
    "\n",
    "\n",
    "#legger til rel_immigration til oppslag norge\n",
    "df_norge[\"rel_immigration\"] = rel_immigration_10000\n",
    "\n",
    "#definerer aksene\n",
    "y3=df_norge[\"rel_immigration\"]\n",
    "x3=df_norge[\"år\"]\n",
    "\n",
    "fig, ax2 = plt.subplots()\n",
    "\n",
    "#plot år og rel_imm å populering\n",
    "ax2 =plt.plot(x3, y3)\n",
    "ax2 = plt.plot(x2, y2)\n"
   ]
  },
  {
   "cell_type": "markdown",
   "id": "fc0370be-f664-417f-885d-97b0f6aa22d6",
   "metadata": {},
   "source": [
    "g) ekstrapoeng. Kan plotte de samme tallene (dvs \"rel_immigration\" og \"befolkning\" sammen med år) i to figurer ved siden av hverandre ved bruk av \"fig, (ax1, ax2) = plt.subplots(1, 2)\". Gi grafene ulik farge\n"
   ]
  },
  {
   "cell_type": "code",
   "execution_count": 39,
   "id": "8dc8457a-7144-4bdb-a4d2-9e2c7fb5cac1",
   "metadata": {},
   "outputs": [
    {
     "data": {
      "text/plain": [
       "[<matplotlib.lines.Line2D at 0x7ff1effcc1c0>]"
      ]
     },
     "execution_count": 39,
     "metadata": {},
     "output_type": "execute_result"
    },
    {
     "data": {
      "image/png": "[encoded data removed]",
      "text/plain": [
       "<Figure size 1008x432 with 2 Axes>"
      ]
     },
     "metadata": {
      "needs_background": "light"
     },
     "output_type": "display_data"
    }
   ],
   "source": [
    "#lager panel\n",
    "fig2,(p1, p2)=plt.subplots(1,2, figsize=(14, 6))\n",
    "\n",
    "xv = df_norge[\"år\"]\n",
    "yv1 = df_norge[\"Befolkning\"]\n",
    "yv2 = df_norge[\"rel_immigration\"]\n",
    "\n",
    "\n",
    "#plot 1\n",
    "p1.plot(xv, yv1)\n",
    "\n",
    "#plot 2\n",
    "p2.plot(xv, yv2)\n",
    "\n",
    "\n"
   ]
  },
  {
   "cell_type": "markdown",
   "id": "091a4c4b-0ab3-42b9-9576-de355e184baf",
   "metadata": {},
   "source": [
    "## Oppgave 4 (20 poeng)"
   ]
  },
  {
   "cell_type": "markdown",
   "id": "806a7eb9-8d04-4fb6-881d-9be4ef739401",
   "metadata": {},
   "source": [
    "Et lån består som regel av et månedlig terminbeløp. Dette beløpet er summen av avdrag (nedbetalingen på lånet) og renter. Vi antar månedlig forrenting i alle oppgavene. Dvs. at det er 12 terminer i hvert år.<br><br>\n",
    "a) Lag en funksjon som regner ut hvor mye lånet \"x\" koster deg i renteutgifter for \"t\" terminer med årlig rente \"r\" for et serielån. <br> <br>  Siden dette er et serielån, så vil avdragene være like hver måned men renteutgiftene reduseres i takt med avdragene. Renteutgiftene for en gitt termin \"t\" vil derfor være den årlige renten \"r\" (delt på antall forrentinger \"f\") på gjenværende beløp på det tidspunktet.   $renteutgifter_{t} = (x-a*(t-1))*{r/f}$   <br>  <br> \n",
    "Det vil si at renteutgiftene første termin er <br>\n",
    "$renteutgifter_{1} = (x-a*0)*{r/f}$, og andre termin er <br>\n",
    "$renteutgifter_{2} = (x-a*1)*{r/f}$ osv..<br> <br>\n",
    "Siden vi er ute etter den totale kostnaden i svaret, må du summere renteutgiftene over alle terminer, det vil si $\\sum_{t=1}^N(x-a*(t-1))*{r/f}$. Dette betyr egentlig bare $renteutgifter_{1} + renteutgifter_{2},...,+renteutgifter_{t}$\n",
    "\n",
    "\n",
    "<br>\n",
    "<b>Hint:</b> siden terminbeløpet varierer for hver måned (pga at rentene endres), må alle enkeltperioder summeres. Det kan være nyttige å bruke funksjonen np.arange() til dette. Mao, det er ikke nødvendig å bruke sigma ($\\sum_{t=1}^N$) i formelen til dette \n"
   ]
  },
  {
   "cell_type": "code",
   "execution_count": 41,
   "id": "bc4e49f8-3534-45e3-8991-ec7d93cac329",
   "metadata": {},
   "outputs": [],
   "source": [
    "#x = lånet\n",
    "#t = terminer(Månedlig = 12)\n",
    "#r = årlig rente\n",
    "#f = forrentninger\n",
    "#a = avdrag\n",
    "\n",
    "\n",
    "def serielån(x, a, t, r, f):\n",
    "    return (x-a*t)*r/f "
   ]
  },
  {
   "cell_type": "markdown",
   "id": "b85feca9-8641-4d22-b821-157d30ce8223",
   "metadata": {},
   "source": [
    "b) regn ut hvor mye lånet koster deg med henholdsvis 10, 20 og 30 års tilbakebetaling. Anta 1 000 000 kr lånebeløp med 3% rente"
   ]
  },
  {
   "cell_type": "code",
   "execution_count": 46,
   "id": "125e8c17-5283-4fa9-9c4d-5e020e24925c",
   "metadata": {},
   "outputs": [
    {
     "name": "stdout",
     "output_type": "stream",
     "text": [
      "Renter for lånet koster 151250.0kr for 10 år\n",
      "Renter for lånet koster 301250.0kr for 20 år\n",
      "Renter for lånet koster 451250.0kr for 30 år\n"
     ]
    }
   ],
   "source": [
    "#Finner ut for 10, 20 og 30 år\n",
    "år= [10, 20, 30]\n",
    "\n",
    "#Data\n",
    "x=1000000 #lånebeløp\n",
    "f=12 #Forrentninger\n",
    "r=0.03 #Rente\n",
    "\n",
    "\n",
    "for år in år: \n",
    "    terminer=år*12 \n",
    "    a=x/terminer \n",
    "    t=np.arange(terminer) #arange setter alle beløpene i et array\n",
    "    print(f\"Renter for lånet koster {sum(serielån(x, a, t, r, f))}kr for {år} år\") \n",
    "\n",
    "#Passer på at antall verdier blir riktig."
   ]
  },
  {
   "cell_type": "markdown",
   "id": "0dde7e5b-e8e5-4575-9473-8d621cb7c870",
   "metadata": {},
   "source": [
    "c) Vis hva det samme lånet koster som annuitetslån, dvs differansen mellom alle terminbeløp og lånebeløp.<br> <br> Annuitetslån gir like terminbeløp hver måned, men renten utgjør en større del av dette beløpet i starten. Terminbeløpet for et annuitetslån er definert ved formelen:\n",
    "$T = x*\\frac{r/f} {(1-(1+(r/f))^{-t})}$, hvor x=lånebeløp, r = årlig rente, t = terminer, f= antall forrentinger\n",
    "\n",
    "\n",
    "\n"
   ]
  },
  {
   "cell_type": "code",
   "execution_count": 49,
   "id": "245729d6-a3bf-4696-abfa-9525b9ce9820",
   "metadata": {},
   "outputs": [
    {
     "data": {
      "text/plain": [
       "<matplotlib.legend.Legend at 0x7ff1ef254370>"
      ]
     },
     "execution_count": 49,
     "metadata": {},
     "output_type": "execute_result"
    },
    {
     "data": {
      "image/png": "[encoded data removed]",
      "text/plain": [
       "<Figure size 432x288 with 1 Axes>"
      ]
     },
     "metadata": {
      "needs_background": "light"
     },
     "output_type": "display_data"
    }
   ],
   "source": [
    "år=20\n",
    "\n",
    "\n",
    "terminer=år*12                                 \n",
    "a=x/terminer                                   \n",
    "t=np.arange(terminer)                         \n",
    "labels=[\"Avdrag\", \"Rente\"]\n",
    "b=[a for i in range(240)]                      \n",
    "plt.ylabel('Månedsbetaling')\n",
    "plt.xlabel('Terminer')\n",
    "plt.stackplot(t, b, serielån(x, a, t, r, f), labels=labels) \n",
    "plt.legend(loc='upper right')"
   ]
  },
  {
   "cell_type": "markdown",
   "id": "64b32290-0ec7-41a1-b230-052fed8c5c0f",
   "metadata": {},
   "source": [
    "c) Vis hvordan utviklingen i rentekostnader og avdrag på terminer for serielån grafisk ved hjelp av stackplot funksjonen i matplotlib. Anta et bankinnskudd x = 1 000 000 kr, årlig rente r=3% og antall terminer t = 240 (det vil si 20 år). Siden vi må vise utviklingen per termin, husk at \"t\" også definerer hvilken måned vi er i. Dvs, hvis t=15, har det gått 1 år og 3 mnd med terminer. Se forøvrig relevante formler i oppgave (a) \n",
    "\n",
    "<br> \n",
    "\n",
    "<b>Hint1:</b> Siden avdragene er like for alle måneder, kan det være lurt å definere det månedlige avdraget som en liste og gange det med antall perioder. \n",
    "<b>Hint2:</b> Siden vi er ute etter både rentekostnader og avdrag hver for seg, kan det være lurt å definere en funksjon for hver av dem.\n"
   ]
  },
  {
   "cell_type": "code",
   "execution_count": null,
   "id": "8181958f-f23f-4b1c-8205-ed7241ffd39f",
   "metadata": {},
   "outputs": [],
   "source": []
  }
 ],
 "metadata": {
  "kernelspec": {
   "display_name": "Python 3 (ipykernel)",
   "language": "python",
   "name": "python3"
  },
  "language_info": {
   "codemirror_mode": {
    "name": "ipython",
    "version": 3
   },
   "file_extension": ".py",
   "mimetype": "text/x-python",
   "name": "python",
   "nbconvert_exporter": "python",
   "pygments_lexer": "ipython3",
   "version": "3.9.13"
  }
 },
 "nbformat": 4,
 "nbformat_minor": 5
}
