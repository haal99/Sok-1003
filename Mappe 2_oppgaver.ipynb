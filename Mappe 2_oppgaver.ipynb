{
 "cells": [
  {
   "cell_type": "markdown",
   "id": "44d8d9ac-9714-458a-a55d-679e7f3990ab",
   "metadata": {},
   "source": [
    "# Mappeoppgave 2"
   ]
  },
  {
   "cell_type": "markdown",
   "id": "8c9e5c66-c191-45ef-a422-2d3ffe170cd1",
   "metadata": {},
   "source": [
    "#### Informasjon om oppgaven\n",
    "Når du besvarer oppgaven, husk: \n",
    "- les oppgaveteksten nøye\n",
    "- kommenter koden din\n",
    "- sett navn på akser og lignende i figurene\n",
    "- skriv hvor du har hentet kodesnutter fra, hvis du gjør det\n",
    "- bruk engelske variabelnavn og vær konsistent med hvordan du bruker store og små bokstaver\n",
    "- bruk mest mulig funksjoner for ting som kan repeteres\n",
    "- En kort kode kan være en bra kode, så ikke gjør det mer komplisert enn det spørres om.\n",
    "\n",
    "Du kan få full pott uten å svare på oppgaven som er markert \"ekstrapoeng\". Du blir likevel belønnet for denne (dvs. hvis du har noen feil og får 45 poeng totalt, så kan du få en høyere poengsum hvis du også har svart på \"ekstrapoeng\". \n",
    "\n",
    "#### Innlevering av oppgavene\n",
    "Du skal levere begge mappene samtidig (det vil si denne oppgaven og mappe 1). Innleveringsfristen er 6 desember kl 13:00. \n",
    "Begge oppgavene skal leveres i github (som jupyter-fil) og wiseflow (som PDF). Bruk navnet  \"SOK-1003-eksamen-2022-mappe2\" på filene.\n",
    "- For github: Husk å gi meg (brukernavn \"okaars\") tilgang til github-reposetoriet deres. Hvis dere har satt reposetoriet til public (anbefales ikke), må dere dele lenken til dette på ole.k.aars@uit.no\n",
    "- For wiseflow: En person fra hver gruppe (for hver mappeoppgave), leverer inn. Ved innlevering kan du krysse av hvem som er på gruppen din \n",
    "\n",
    "Se generell informasjon om hvordan man leverer oppgaven <th><a href='https://uit-sok-1003-h22.github.io/semesteroppgave.html'>her</a>.\n",
    "    \n",
    "<b> NB!:</b> En person fra gruppa må <a href='https://docs.google.com/forms/d/e/1FAIpQLSeljUukzUU5d-VbxyM4C0x4WUplhUKBCU5wIpPZl_bP5kN71A/viewform?usp=sf_link'> fylle ut dette skjemaet </a>  for å melde om hvem som er på gruppa. Dere vil i etterkant motta en epost om tidspunkt for presentasjon. \n",
    "    \n",
    "#### Presentasjon\n",
    "Presentasjonen innebærer en kort gjennomgang av oppgaven (10-15 min) etterfulgt av kommentarer fra meg (10-15 min). Alle gruppemedlemmer skal bidra til presentasjonen. Det er anbefalt å laste opp besvarelsen på github forut for presentasjonen (helst to dager før) slik at jeg har mulighet til å lese gjennom. Dere vil ha mulighet til å endre besvarelsen etter presentasjonen, frem til endelig innlevering 6 desember.\n",
    "\n",
    "\n"
   ]
  },
  {
   "cell_type": "markdown",
   "id": "06462796-016e-489b-ba82-74ab1e7ef659",
   "metadata": {},
   "source": [
    "### Oppgave 1 (10 poeng)"
   ]
  },
  {
   "cell_type": "markdown",
   "id": "e023ea65-979b-419f-adf7-cc3d9e3b8a96",
   "metadata": {},
   "source": [
    "a) Vi skal spille et spill der vi kaster en terning 6 ganger. Lag en funksjon med \"for-løkke\" som printer alle terningene som har blitt kastet. Du kan bruke `np.random.randint()` til å lage tilfeldige tall"
   ]
  },
  {
   "cell_type": "code",
   "execution_count": 5,
   "id": "87606b7f-1d07-4f16-ad7b-8f8aebb00ff0",
   "metadata": {},
   "outputs": [],
   "source": [
    "import numpy as np\n",
    "import pandas as pd\n",
    "import matplotlib.pylab as pylab\n",
    "import matplotlib.pyplot as plt\n",
    "import sympy as sp"
   ]
  },
  {
   "cell_type": "code",
   "execution_count": 8,
   "id": "1c9c44c3-355d-4789-826f-7a5d84c40618",
   "metadata": {},
   "outputs": [
    {
     "name": "stdout",
     "output_type": "stream",
     "text": [
      "2\n",
      "3\n",
      "4\n",
      "6\n",
      "2\n",
      "2\n"
     ]
    }
   ],
   "source": [
    "dice = []\n",
    "for i in range (6):\n",
    "    dice = np.random.randint(1, 7)\n",
    "    print(dice)"
   ]
  },
  {
   "cell_type": "markdown",
   "id": "513b72af-3d26-4e95-a339-9741c9baec4c",
   "metadata": {},
   "source": [
    "b) Juster den samme funksjonen slik at den lagrer tallene i en liste før den printer ut selve listen. Dere kan kalle denne listen for `lot_numbers`. Dere kan vurdere å bruke `append()` som del av funksjonen. "
   ]
  },
  {
   "cell_type": "code",
   "execution_count": 3,
   "id": "c6572aa3-75a2-4148-9945-7143e0215fab",
   "metadata": {},
   "outputs": [
    {
     "name": "stdout",
     "output_type": "stream",
     "text": [
      "[1]\n",
      "[1, 3]\n",
      "[1, 3, 4]\n",
      "[1, 3, 4, 6]\n",
      "[1, 3, 4, 6, 2]\n",
      "[1, 3, 4, 6, 2, 5]\n",
      "[1, 3, 4, 6, 2, 5]\n"
     ]
    }
   ],
   "source": [
    "dice = []\n",
    "for i in range (6):\n",
    "    lot_numbers = np.random.randint(1, 7)\n",
    "    dice.append(lot_numbers)\n",
    "    print(dice)\n",
    "    \n",
    "print(dice)"
   ]
  },
  {
   "cell_type": "markdown",
   "id": "82475b42-e595-4a0f-be43-79fcafd68ec6",
   "metadata": {},
   "source": [
    "c) Juster den samme funksjonen slik at den har to argument. Disse argumentene er to terningverdier som du \"tipper\" blir kastet. Bruk `if`, `else` og `elif` til å generere vinnertall. Resultatet fra funksjonen skal printe ut ulike setninger avhengig av om man får 0, 1 eller 2 rette. Setningene velger du selv, men de skal inneholde tallene som du tippet, og tallene som ble trukket.  "
   ]
  },
  {
   "cell_type": "code",
   "execution_count": null,
   "id": "c5be1693-2afc-462a-a978-eefaf621a038",
   "metadata": {},
   "outputs": [],
   "source": []
  },
  {
   "cell_type": "markdown",
   "id": "4b4172a9-635c-498b-bbbc-8444ba90fdbb",
   "metadata": {
    "tags": []
   },
   "source": [
    "### Oppgave 2 (10 poeng)\n",
    "a) Du har nå begynt å spille lotto i stedet, og satser alt på ett vinnertall. Lag en while-løkke som printer ut tall helt til du har trukket riktig tall (som du definerer selv). For enkelthets skyld kan du begrense utfallsrommet av trekningene til mellom 0-30."
   ]
  },
  {
   "cell_type": "code",
   "execution_count": 4,
   "id": "56ab890f-b7a3-47a1-b605-3606e0324560",
   "metadata": {
    "tags": []
   },
   "outputs": [
    {
     "name": "stdout",
     "output_type": "stream",
     "text": [
      "28\n",
      "14\n",
      "7\n",
      "6\n",
      "29\n",
      "25\n",
      "24\n",
      "0\n",
      "1\n"
     ]
    }
   ],
   "source": [
    "lottery = np.random.randint(0,30)\n",
    "lottery_number = 1\n",
    "while lottery != lottery_number:\n",
    "    print(lottery)\n",
    "    lottery = np.random.randint(0,30)\n",
    "    \n",
    "    \n",
    "print(lottery)"
   ]
  },
  {
   "cell_type": "code",
   "execution_count": null,
   "id": "a7b792c1-c45b-4e23-a833-e9f9f3ee5f1d",
   "metadata": {
    "tags": []
   },
   "outputs": [],
   "source": []
  },
  {
   "cell_type": "markdown",
   "id": "07c405a6-2ba7-4e14-89d8-159f3246a1da",
   "metadata": {},
   "source": [
    "b) Lag et plot av den while-løkken du nettopp lagde. Man blir belønnet om man; \n",
    "- bruker `scatter`; \n",
    "- lager plottet dynamisk (dvs at hver trekning vises hver for seg, og at x-aksen endrer seg etter en gitt verdi); \n",
    "- viser hvor når siste trekningen blir gjort (dvs at den vises kun når du har trukket vinnertallet).\n",
    "\n",
    "Avhengig av hvordan du lager figuren din kan du får bruk for å importere pakkene `Ellipse`, `display`, `clear_output`."
   ]
  },
  {
   "cell_type": "code",
   "execution_count": 5,
   "id": "6987281c-d636-4595-a542-1b0d468f08f2",
   "metadata": {},
   "outputs": [
    {
     "data": {
      "image/png": "[encoded data removed]",
      "text/plain": [
       "<Figure size 640x400 with 1 Axes>"
      ]
     },
     "metadata": {
      "needs_background": "light"
     },
     "output_type": "display_data"
    }
   ],
   "source": [
    "#pakker som du kan få bruk for\n",
    "import matplotlib.pyplot as plt\n",
    "from matplotlib.patches import Ellipse\n",
    "from IPython.display import display, clear_output\n",
    "\n",
    "lottery = np.random.randint(0, 30) \n",
    "lottery_number = 5\n",
    "tries = 0 \n",
    "\n",
    "fig1, ax = plt.subplots(figsize = (8, 5), dpi = 80)\n",
    "while lottery != lottery_number :\n",
    "    if lottery != lottery_number : \n",
    "        tries += 1\n",
    "        lottery = np.random.randint(0, 30)\n",
    "        \n",
    "    plt.scatter(tries, lottery, marker='o') \n",
    "    display(fig1) \n",
    "    clear_output(wait = True) \n",
    "    plt.ylabel(\"Numbers\") \n",
    "    plt.xlabel(\"Tries\")\n",
    "    plt.title(\"lottery\")\n",
    "    plt.style.use(\"ggplot\") "
   ]
  },
  {
   "cell_type": "code",
   "execution_count": null,
   "id": "b71d38ec-bd7e-4576-835e-35df5ff349f1",
   "metadata": {},
   "outputs": [],
   "source": []
  },
  {
   "cell_type": "markdown",
   "id": "ce376b8a-4ab8-4f08-83cd-31e2a25d918c",
   "metadata": {},
   "source": [
    "c) Ekstrapoeng: gjør det samme som i (b), men lag et histogram som vises ved siden av. Dette histogrammet skal vise hvor mange ganger de ulike tallene ble trekt. Bruk `plt.hist` til dette. Husk at du må definere figur og akseobjekt først.  "
   ]
  },
  {
   "cell_type": "code",
   "execution_count": null,
   "id": "7daaa879-f592-44b5-94c0-cb023f6dba1e",
   "metadata": {},
   "outputs": [],
   "source": []
  },
  {
   "cell_type": "markdown",
   "id": "c8f4e513-42c3-4d3b-a781-e97e5c484c1d",
   "metadata": {},
   "source": [
    "### Oppgave 3 (20 poeng)"
   ]
  },
  {
   "cell_type": "markdown",
   "id": "e3685232-4e17-4460-b83e-bf5ac0fe626c",
   "metadata": {},
   "source": [
    "En bedrift produserer biler. Produktfunksjonen til bedriften defineres slik  $f(L, a, R) = 2RL^{a}$, hvor:\n",
    "- `L` er arbeidskraft, \n",
    "- `a` er produktiviteten til arbeiderne og \n",
    "- `R` er antall robotmaskiner\n",
    "\n",
    "a) Lag en formel for produktfunksjonen til bedriften og plot den grafisk med ulike verdier av `L` på x-aksen. Anta `a=0.6` og `R=2`"
   ]
  },
  {
   "cell_type": "code",
   "execution_count": 18,
   "id": "3a30a765-dd60-4a26-a324-02d6a5c26eb9",
   "metadata": {},
   "outputs": [
    {
     "data": {
      "text/plain": [
       "Text(0, 0.5, 'Produksjon')"
      ]
     },
     "execution_count": 18,
     "metadata": {},
     "output_type": "execute_result"
    },
    {
     "data": {
      "image/png": "[encoded data removed]",
      "text/plain": [
       "<Figure size 432x288 with 1 Axes>"
      ]
     },
     "metadata": {},
     "output_type": "display_data"
    }
   ],
   "source": [
    "def product(R, L, a):\n",
    "    return 2*R*L**a\n",
    "\n",
    "x = np.linspace(0,1000,100)\n",
    "\n",
    "plt.plot(x,product(2, x, 0.6))\n",
    "plt.xlabel(\"Arbeidere\")\n",
    "plt.ylabel(\"Produksjon\")"
   ]
  },
  {
   "cell_type": "markdown",
   "id": "761b1c38-b798-4f13-b954-34ac93544549",
   "metadata": {},
   "source": [
    "b) anta at profittfunksjonen til denne bedriften er ${profit = f(L, a, R)p-wL-cR-K}$, hvor \n",
    "- `w` er månedslønnen til arbeiderne, \n",
    "- `c` er kostnaden for robotmaskinene \n",
    "- `K` er faste kostnader\n",
    "- `p` er utsalgsprisen på bilene. \n",
    "\n",
    "Anta `a=0.6`,`R=6`, `p=300 000`, `w=100 000`, `c= 1 000 000` og `K=90 000 000`. Plot profittfunksjonen figurativt for antall arbeidere (`L`) mellom 0 og 10 000. Vis profitten i millioner (dvs at du må dele på 1 000 000)"
   ]
  },
  {
   "cell_type": "code",
   "execution_count": 30,
   "id": "4a64ccd4-98eb-4cd2-8c64-e1196187092b",
   "metadata": {},
   "outputs": [
    {
     "data": {
      "text/plain": [
       "Text(0, 0.5, 'Profitt')"
      ]
     },
     "execution_count": 30,
     "metadata": {},
     "output_type": "execute_result"
    },
    {
     "data": {
      "image/png": "[encoded data removed]",
      "text/plain": [
       "<Figure size 432x288 with 1 Axes>"
      ]
     },
     "metadata": {},
     "output_type": "display_data"
    }
   ],
   "source": [
    "def profit(p,L,a,R,w,c,K):\n",
    "    return product(R, L, a)*p-w*L-c*R-K\n",
    "\n",
    "\n",
    "x = np.linspace(0,10000,1000)\n",
    "a=0.6\n",
    "R=6\n",
    "p=300000\n",
    "w=100000\n",
    "c=1000000\n",
    "K=90000000\n",
    "\n",
    "\n",
    "plt.plot(x,(profit(p,x,a,R,w,c,K)))\n",
    "plt.xlabel(\"Arbeidere\")\n",
    "plt.ylabel(\"Profitt\")"
   ]
  },
  {
   "cell_type": "markdown",
   "id": "abec7c59-aa53-4350-bb7a-01b7ec2488ec",
   "metadata": {},
   "source": [
    "c) Plot profitttfunksjonen for antall robostmaskiner `R=[3, 6, 9]` i samme plot (dvs at tre profittfunksjoner vises sammen). Bruk av \"for loops\" for å gjøre dette belønnes"
   ]
  },
  {
   "cell_type": "code",
   "execution_count": null,
   "id": "e0d5dadb-c207-4ea2-9093-2edc9cffa6c5",
   "metadata": {},
   "outputs": [],
   "source": []
  },
  {
   "cell_type": "markdown",
   "id": "cd9c9d0d-f57c-4fb7-8869-b795f74ce934",
   "metadata": {},
   "source": [
    "d) finn profittmaksimum og optimal antall arbeidere ved hjelp av derivasjon med samme forutsetninger som i (1b). Bruk `sympy`-pakken til dette "
   ]
  },
  {
   "cell_type": "code",
   "execution_count": null,
   "id": "1081a59e-9f9f-4a2f-ab4d-a9139740ba5b",
   "metadata": {},
   "outputs": [],
   "source": [
    "#pakker du kan få bruk for\n",
    "import sympy as sp \n",
    "from sympy.solvers import solve\n"
   ]
  },
  {
   "cell_type": "markdown",
   "id": "d4614067-a66f-46d5-ae32-d641942554a1",
   "metadata": {},
   "source": [
    "e) vis figurativt med bruk av `fill_between` arealet hvor man taper penger (i rødt) og hvor man tjener penger (i grønt). Marker også profittmaksimum og antall arbeidere i profittmaksimum - gjerne ved bruk av `vlines`. Bruk ellers samme forutsetninger for argumentene som i oppgave (1b)"
   ]
  },
  {
   "cell_type": "code",
   "execution_count": null,
   "id": "267eccfe-d1ab-4e45-a1f4-63990001efc0",
   "metadata": {},
   "outputs": [],
   "source": []
  },
  {
   "cell_type": "markdown",
   "id": "c7c75529-8429-49bd-b475-c3809f0cc087",
   "metadata": {},
   "source": [
    "f) Plot nå to figurer sammen der du viser hva optimal antall arbeidere gir i profitt (slik som i (2e)) og produksjon av antall biler (som du får fra produktfunksjonen). Marker optimum med vlines. Ha grafen med profittfunksjonen over grafen med produktfunksjonen. Du kan bruke `fig, (ax1, ax2) = plt.subplots(2)` når du skal gjøre dette. <br>\n",
    "\n",
    "<b> Hint: </b> Du kan finne antall biler som blir produsert ved å bruke antall arbeidere i profittmaksimum, i produktfunksjonen.\n"
   ]
  },
  {
   "cell_type": "code",
   "execution_count": null,
   "id": "c257e111-e078-4a48-afa5-74ff2bef9d56",
   "metadata": {},
   "outputs": [],
   "source": []
  },
  {
   "cell_type": "markdown",
   "id": "405329a8-fe5e-45a0-bf3b-d1182af70c1f",
   "metadata": {},
   "source": [
    "### Oppgave 4 (10 poeng)\n",
    "I denne oppgaven skal vi hente ut et datasett fra eurostat på investeringer i hosholdningen. Bruk koden under til å hente ut dataene.\n",
    "<br><b>NB!:</b> Husk at dere må ha innstallert pakken `eurostat`. Dette gjør dere med å åpne \"Terminal\" og kjøre  `pip install eurostat`."
   ]
  },
  {
   "cell_type": "code",
   "execution_count": 7,
   "id": "444371dc-188a-478a-86f5-4d3c0f36bfff",
   "metadata": {},
   "outputs": [],
   "source": [
    "import eurostat\n",
    "\n",
    "\n",
    "inv_data = eurostat.get_data_df('tec00098')\n"
   ]
  },
  {
   "cell_type": "markdown",
   "id": "cfd54317-e3e2-437f-a9d5-26d941c3d9d5",
   "metadata": {},
   "source": [
    "a) Bytt navn på kolonnen \"geo\\\\time\" til \"country\" ved bruk av en av kodene under. Fjern så alle kolonner utenom \"country\" og alle årstallene. \n",
    "<br> <b>NB!:</b> Noen vil få en ekstra første kolonne som heter \"freq\" eller noe annet. Da må dere bruke versjon 2 av koden under. "
   ]
  },
  {
   "cell_type": "code",
   "execution_count": 19,
   "id": "4dc833b6-7349-4773-9789-47d2da20015d",
   "metadata": {},
   "outputs": [
    {
     "ename": "ValueError",
     "evalue": "Length mismatch: Expected axis has 17 elements, new values have 16 elements",
     "output_type": "error",
     "traceback": [
      "\u001b[0;31m---------------------------------------------------------------------------\u001b[0m",
      "\u001b[0;31mValueError\u001b[0m                                Traceback (most recent call last)",
      "Input \u001b[0;32mIn [19]\u001b[0m, in \u001b[0;36m<cell line: 1>\u001b[0;34m()\u001b[0m\n\u001b[0;32m----> 1\u001b[0m \u001b[43minv_data\u001b[49m\u001b[38;5;241;43m.\u001b[39;49m\u001b[43mcolumns\u001b[49m \u001b[38;5;241m=\u001b[39m [\u001b[38;5;124m'\u001b[39m\u001b[38;5;124munit\u001b[39m\u001b[38;5;124m'\u001b[39m,   \u001b[38;5;124m'\u001b[39m\u001b[38;5;124msector\u001b[39m\u001b[38;5;124m'\u001b[39m,  \u001b[38;5;124m'\u001b[39m\u001b[38;5;124mna_item\u001b[39m\u001b[38;5;124m'\u001b[39m, \u001b[38;5;124m'\u001b[39m\u001b[38;5;124mcountry\u001b[39m\u001b[38;5;124m'\u001b[39m] \u001b[38;5;241m+\u001b[39m \u001b[38;5;28mlist\u001b[39m(\u001b[38;5;28mrange\u001b[39m(\u001b[38;5;241m2010\u001b[39m, \u001b[38;5;241m2022\u001b[39m))\n",
      "File \u001b[0;32m/usr/local/Miniconda3-py39_4.10.3-Linux-x86_64/lib/python3.9/site-packages/pandas/core/generic.py:5588\u001b[0m, in \u001b[0;36mNDFrame.__setattr__\u001b[0;34m(self, name, value)\u001b[0m\n\u001b[1;32m   5586\u001b[0m \u001b[38;5;28;01mtry\u001b[39;00m:\n\u001b[1;32m   5587\u001b[0m     \u001b[38;5;28mobject\u001b[39m\u001b[38;5;241m.\u001b[39m\u001b[38;5;21m__getattribute__\u001b[39m(\u001b[38;5;28mself\u001b[39m, name)\n\u001b[0;32m-> 5588\u001b[0m     \u001b[38;5;28;01mreturn\u001b[39;00m \u001b[38;5;28;43mobject\u001b[39;49m\u001b[38;5;241;43m.\u001b[39;49m\u001b[38;5;21;43m__setattr__\u001b[39;49m\u001b[43m(\u001b[49m\u001b[38;5;28;43mself\u001b[39;49m\u001b[43m,\u001b[49m\u001b[43m \u001b[49m\u001b[43mname\u001b[49m\u001b[43m,\u001b[49m\u001b[43m \u001b[49m\u001b[43mvalue\u001b[49m\u001b[43m)\u001b[49m\n\u001b[1;32m   5589\u001b[0m \u001b[38;5;28;01mexcept\u001b[39;00m \u001b[38;5;167;01mAttributeError\u001b[39;00m:\n\u001b[1;32m   5590\u001b[0m     \u001b[38;5;28;01mpass\u001b[39;00m\n",
      "File \u001b[0;32m/usr/local/Miniconda3-py39_4.10.3-Linux-x86_64/lib/python3.9/site-packages/pandas/_libs/properties.pyx:70\u001b[0m, in \u001b[0;36mpandas._libs.properties.AxisProperty.__set__\u001b[0;34m()\u001b[0m\n",
      "File \u001b[0;32m/usr/local/Miniconda3-py39_4.10.3-Linux-x86_64/lib/python3.9/site-packages/pandas/core/generic.py:769\u001b[0m, in \u001b[0;36mNDFrame._set_axis\u001b[0;34m(self, axis, labels)\u001b[0m\n\u001b[1;32m    767\u001b[0m \u001b[38;5;28;01mdef\u001b[39;00m \u001b[38;5;21m_set_axis\u001b[39m(\u001b[38;5;28mself\u001b[39m, axis: \u001b[38;5;28mint\u001b[39m, labels: Index) \u001b[38;5;241m-\u001b[39m\u001b[38;5;241m>\u001b[39m \u001b[38;5;28;01mNone\u001b[39;00m:\n\u001b[1;32m    768\u001b[0m     labels \u001b[38;5;241m=\u001b[39m ensure_index(labels)\n\u001b[0;32m--> 769\u001b[0m     \u001b[38;5;28;43mself\u001b[39;49m\u001b[38;5;241;43m.\u001b[39;49m\u001b[43m_mgr\u001b[49m\u001b[38;5;241;43m.\u001b[39;49m\u001b[43mset_axis\u001b[49m\u001b[43m(\u001b[49m\u001b[43maxis\u001b[49m\u001b[43m,\u001b[49m\u001b[43m \u001b[49m\u001b[43mlabels\u001b[49m\u001b[43m)\u001b[49m\n\u001b[1;32m    770\u001b[0m     \u001b[38;5;28mself\u001b[39m\u001b[38;5;241m.\u001b[39m_clear_item_cache()\n",
      "File \u001b[0;32m/usr/local/Miniconda3-py39_4.10.3-Linux-x86_64/lib/python3.9/site-packages/pandas/core/internals/managers.py:214\u001b[0m, in \u001b[0;36mBaseBlockManager.set_axis\u001b[0;34m(self, axis, new_labels)\u001b[0m\n\u001b[1;32m    212\u001b[0m \u001b[38;5;28;01mdef\u001b[39;00m \u001b[38;5;21mset_axis\u001b[39m(\u001b[38;5;28mself\u001b[39m, axis: \u001b[38;5;28mint\u001b[39m, new_labels: Index) \u001b[38;5;241m-\u001b[39m\u001b[38;5;241m>\u001b[39m \u001b[38;5;28;01mNone\u001b[39;00m:\n\u001b[1;32m    213\u001b[0m     \u001b[38;5;66;03m# Caller is responsible for ensuring we have an Index object.\u001b[39;00m\n\u001b[0;32m--> 214\u001b[0m     \u001b[38;5;28;43mself\u001b[39;49m\u001b[38;5;241;43m.\u001b[39;49m\u001b[43m_validate_set_axis\u001b[49m\u001b[43m(\u001b[49m\u001b[43maxis\u001b[49m\u001b[43m,\u001b[49m\u001b[43m \u001b[49m\u001b[43mnew_labels\u001b[49m\u001b[43m)\u001b[49m\n\u001b[1;32m    215\u001b[0m     \u001b[38;5;28mself\u001b[39m\u001b[38;5;241m.\u001b[39maxes[axis] \u001b[38;5;241m=\u001b[39m new_labels\n",
      "File \u001b[0;32m/usr/local/Miniconda3-py39_4.10.3-Linux-x86_64/lib/python3.9/site-packages/pandas/core/internals/base.py:69\u001b[0m, in \u001b[0;36mDataManager._validate_set_axis\u001b[0;34m(self, axis, new_labels)\u001b[0m\n\u001b[1;32m     66\u001b[0m     \u001b[38;5;28;01mpass\u001b[39;00m\n\u001b[1;32m     68\u001b[0m \u001b[38;5;28;01melif\u001b[39;00m new_len \u001b[38;5;241m!=\u001b[39m old_len:\n\u001b[0;32m---> 69\u001b[0m     \u001b[38;5;28;01mraise\u001b[39;00m \u001b[38;5;167;01mValueError\u001b[39;00m(\n\u001b[1;32m     70\u001b[0m         \u001b[38;5;124mf\u001b[39m\u001b[38;5;124m\"\u001b[39m\u001b[38;5;124mLength mismatch: Expected axis has \u001b[39m\u001b[38;5;132;01m{\u001b[39;00mold_len\u001b[38;5;132;01m}\u001b[39;00m\u001b[38;5;124m elements, new \u001b[39m\u001b[38;5;124m\"\u001b[39m\n\u001b[1;32m     71\u001b[0m         \u001b[38;5;124mf\u001b[39m\u001b[38;5;124m\"\u001b[39m\u001b[38;5;124mvalues have \u001b[39m\u001b[38;5;132;01m{\u001b[39;00mnew_len\u001b[38;5;132;01m}\u001b[39;00m\u001b[38;5;124m elements\u001b[39m\u001b[38;5;124m\"\u001b[39m\n\u001b[1;32m     72\u001b[0m     )\n",
      "\u001b[0;31mValueError\u001b[0m: Length mismatch: Expected axis has 17 elements, new values have 16 elements"
     ]
    }
   ],
   "source": [
    "inv_data.columns = ['unit',   'sector',  'na_item', 'country'] + list(range(2010, 2022)) #v1\n"
   ]
  },
  {
   "cell_type": "code",
   "execution_count": null,
   "id": "2e3da626-a5e4-4ed5-af0f-29023179b077",
   "metadata": {},
   "outputs": [],
   "source": [
    "inv_data.columns = ['freq', 'unit',   'sector',  'na_item', 'country'] + list(range(2010, 2022)) #v2 \n"
   ]
  },
  {
   "cell_type": "code",
   "execution_count": null,
   "id": "2821141b-796b-4af2-a1da-810186947836",
   "metadata": {},
   "outputs": [],
   "source": []
  },
  {
   "cell_type": "markdown",
   "id": "fb718dfb-02b0-49fa-88d0-27fabc3a7948",
   "metadata": {},
   "source": [
    "b) fjern radene med nan verdi. Sett deretter indeksen til \"country\". <br> <b> Hint: </b> En metode er å bruke `isna()` og `any()` over radaksene (dvs. `axis=1`)"
   ]
  },
  {
   "cell_type": "code",
   "execution_count": null,
   "id": "834b2eda-b002-4bb1-ba63-6db7091c1127",
   "metadata": {},
   "outputs": [],
   "source": []
  },
  {
   "cell_type": "markdown",
   "id": "f68af0f0-770f-4217-8491-723e8cc7480e",
   "metadata": {},
   "source": [
    "c) Lag et nytt datasett hvor du kun har med de nordiske landene (dvs. \"NO\", \"SE\", \"DK\", \"FI\"). Det kan være nyttig å bruke `isin` til dette. Bytt så om på kolonner og rader ved hjelp av `transpose`. "
   ]
  },
  {
   "cell_type": "code",
   "execution_count": null,
   "id": "a82331aa-405e-4414-a088-546298c32291",
   "metadata": {},
   "outputs": [],
   "source": []
  },
  {
   "cell_type": "markdown",
   "id": "2d49e2bb-b44e-4558-b279-1bc10a1ba6ab",
   "metadata": {},
   "source": [
    "d) Lag en ny kolonne som du kaller \"mean\". Denne skal være gjennomsnittet av alle de nordiske landene for hvert av årene (dvs at du må ta gjennomsnittet over radene). Plot så dette og kall y-aksen for \"investering\""
   ]
  },
  {
   "cell_type": "code",
   "execution_count": null,
   "id": "c78d7898-1931-4b4c-a4ac-f0bd1a4b3499",
   "metadata": {},
   "outputs": [],
   "source": []
  }
 ],
 "metadata": {
  "kernelspec": {
   "display_name": "Python 3 (ipykernel)",
   "language": "python",
   "name": "python3"
  },
  "language_info": {
   "codemirror_mode": {
    "name": "ipython",
    "version": 3
   },
   "file_extension": ".py",
   "mimetype": "text/x-python",
   "name": "python",
   "nbconvert_exporter": "python",
   "pygments_lexer": "ipython3",
   "version": "3.9.13"
  }
 },
 "nbformat": 4,
 "nbformat_minor": 5
}
